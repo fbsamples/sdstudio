{
  "cells": [
    {
      "cell_type": "markdown",
      "metadata": {
        "id": "kved3XDDDo7v"
      },
      "source": [
        "Author: Nickolai Kniazev\n",
        "#Instructions (TL;DR) 🎨\n",
        "1. Run this colab by choosing Runtime-> RunAll or press ⌘/ctrl+F9. All necessary soft should be downloaded it may take ~1 minute\n",
        "2. [Optional] Grand Access to link with google drive to save pictures and share them.\n",
        "3.1 Copy IP adress after \"Copy IP adress on the next line\"\n",
        "3.2 Click the link on the bottom it's look like ***.local.lt.\n",
        "3.3 Past IP adress to the endpoint box\n",
        "\n",
        "\n",
        "[Optional]\n",
        " In order use Stable Diffusion 1.4 and Stable Diffusion 1.4 on MidJournery:\n",
        "1. Register on [hugging face](https://huggingface.co/join) to get [access token](https://huggingface.co/settings/tokens). Copy to clipboard\n",
        "2. Copy your huggingface token to left menu\n"
      ]
    },
    {
      "cell_type": "code",
      "execution_count": null,
      "metadata": {
        "colab": {
          "background_save": true,
          "base_uri": "https://localhost:8080/"
        },
        "id": "NkdVxOnnD4-v",
        "outputId": "d5636633-3c0c-4e07-f0ef-7aa66a1ba08c"
      },
      "outputs": [
        {
          "name": "stdout",
          "output_type": "stream",
          "text": [
            "...Loading libraries it should take about 35 seconds...\n"
          ]
        }
      ],
      "source": [
        "print(\"...Loading libraries it should take about 35 seconds...\")\n",
        "!pip install -q diffusers==0.10.2 transformers scipy ftfy nevergrad scikit-learn streamlit==1.16.0 streamlit-drawable-canvas &> /dev/null\n",
        "!npm install --silent -q localtunnel &> /dev/null\n",
        "!pip install -q git+https://github.com/sberbank-ai/Real-ESRGAN.git -q gfpgan protobuf==3.20.3 rasterio &> /dev/null\n",
        "!mkdir GFPGAN -p; wget https://github.com/TencentARC/GFPGAN/releases/download/v1.3.0/GFPGANv1.3.pth -P GFPGAN &> /dev/null\n",
        "!wget --no-check-certificate 'https://drive.google.com/uc?export=download&id=1zn80TVA4FhIWzSsE26EQ_pjMw3PKkC7u' -O d_studio.py &> /dev/null\n",
        "import joblib,threading, datetime, time, os, pydrive, oauth2client, google, pydrive.auth, pydrive.drive, requests, json, uuid\n",
        "try:\n",
        "  google.colab.auth.authenticate_user(); gauth = pydrive.auth.GoogleAuth() ; gauth.credentials = oauth2client.client.GoogleCredentials.get_application_default(); drive = pydrive.drive.GoogleDrive(gauth)\n",
        "  def save_and_create(file_path: str, drive):\n",
        "    file = drive.CreateFile(metadata={\"title\": f\"{file_path[:-4]}{uuid.uuid1()}.png\", 'mimeType': 'image/jpeg'}); file.SetContentFile(file_path); file.Upload()\n",
        "    res = requests.post(f\"https://www.googleapis.com/drive/v3/files/{file['id']}/permissions?supportsAllDrives=true\", data=json.dumps( {'type': 'anyone', 'value': 'anyone', 'role': 'reader'}), headers={'Authorization': 'Bearer ' + gauth.credentials.access_token, 'Content-Type': 'application/json'})\n",
        "    return f\"https://www.facebook.com/sharer/sharer.php?u=https://drive.google.com/uc?id={file['id']}\"\n",
        "  class TestThreading(object):\n",
        "      def __init__(self, interval=1, links_dict={}):\n",
        "          self.interval = interval;self.kill = False;self.links_dict=links_dict; self.thread = threading.Thread(target=self.run, args=());self.thread.daemon = True;self.thread.start()\n",
        "      def run(self):\n",
        "          while not self.kill :\n",
        "              time.sleep(self.interval ); new_dict = {d:save_and_create(d,drive) for d in os.listdir() if \"image_\" in d and \".png\" in d and d not in self.links_dict.keys()}\n",
        "              self.links_dict.update(new_dict); joblib.dump(self.links_dict,\"links_dict.j\") if 0<len(new_dict) else None\n",
        "  tr = TestThreading(1); print(\"Images will be saved on google Drive\")\n",
        "except:\n",
        "  print(\"Access to Google Drive was not granted\")\n",
        "print(\"Copy IP adress on the next line:\")\n",
        "!streamlit run /content/d_studio.py &>/content/logs.txt & npx localtunnel --port 8501 & curl ipv4.icanhazip.com\n"
      ]
    },
    {
      "cell_type": "code",
      "execution_count": null,
      "metadata": {
        "id": "m-tV9TxcVfj4"
      },
      "outputs": [],
      "source": [
        "!streamlit run /content/d_studio.py &>/content/logs.txt\n"
      ]
    },
    {
      "cell_type": "code",
      "execution_count": null,
      "metadata": {
        "colab": {
          "base_uri": "https://localhost:8080/",
          "height": 130
        },
        "id": "lZ-9R23qbRrv",
        "outputId": "d05d4e13-c8f5-445f-827d-373bb18c4c53"
      },
      "outputs": [
        {
          "ename": "SyntaxError",
          "evalue": "ignored",
          "output_type": "error",
          "traceback": [
            "\u001b[0;36m  File \u001b[0;32m\"<ipython-input-6-e61563c4bab4>\"\u001b[0;36m, line \u001b[0;32m1\u001b[0m\n\u001b[0;31m    npx localtunnel --port 8501\u001b[0m\n\u001b[0m        ^\u001b[0m\n\u001b[0;31mSyntaxError\u001b[0m\u001b[0;31m:\u001b[0m invalid syntax\n"
          ]
        }
      ],
      "source": [
        "npx localtunnel --port 8501"
      ]
    },
    {
      "cell_type": "code",
      "execution_count": null,
      "metadata": {
        "id": "qEPpgc_Hcb-o"
      },
      "outputs": [],
      "source": []
    }
  ],
  "metadata": {
    "accelerator": "GPU",
    "colab": {
      "provenance": [],
      "gpuClass": "premium"
    },
    "gpuClass": "premium",
    "kernelspec": {
      "display_name": "Python 3",
      "name": "python3"
    },
    "language_info": {
      "name": "python"
    }
  },
  "nbformat": 4,
  "nbformat_minor": 0
}