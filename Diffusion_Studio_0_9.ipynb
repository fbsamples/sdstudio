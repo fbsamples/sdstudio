{
 "cells": [
  {
   "cell_type": "markdown",
   "metadata": {
    "id": "kved3XDDDo7v"
   },
   "source": [
    "[![Open In Colab](https://colab.research.google.com/assets/colab-badge.svg)](https://colab.research.google.com/github/fbsamples/sdstudio/blob/main/Diffusion_Studio_0_9.ipynb)\n",
    "\n",
    "\n",
    "Copyright (c) Meta Platforms, Inc. and affiliates. Author: Nickolai Kniazev\n",
    "\n",
    "#Instructions (TL;DR) 🎨\n",
    "\n",
    "1. Click on `open in Colab` link above.\n",
    "    - Once you get your colab notebook running, you can simple execute `Run All` or press `⌘/ctrl+F9`.\n",
    "    - All necessary packages will be downloaded at the beginning of the notebook and it may take ~1 minute.\n",
    "    - [Optional] You'll be invited to grant access to link with google drive to be able to save pictures and to share them. \n",
    "2. Copy generated IP address after \"Copy IP address on the next line\" \n",
    "3. Click the link on the bottom (which looks like `***.loca.lt`)\n",
    "   - Past IP address to the endpoint box\n",
    "   - [Optional] In order use Stable Diffusion 1.4 and Stable Diffusion 1.4 on MidJournery:\n",
    "      *  Register on hugging face to get access token. \n",
    "      *  Copy your huggingface token to clipboard and past it to the left menu."
   ]
  },
  {
   "cell_type": "code",
   "execution_count": null,
   "metadata": {
    "colab": {
     "background_save": true,
     "base_uri": "https://localhost:8080/"
    },
    "id": "NkdVxOnnD4-v",
    "outputId": "d5636633-3c0c-4e07-f0ef-7aa66a1ba08c",
    "tags": []
   },
   "outputs": [],
   "source": [
    "print(\"...Loading libraries it should take about 35 seconds...\")\n",
    "\n",
    "!pip install -q diffusers==0.10.2 transformers scipy ftfy nevergrad scikit-learn streamlit==1.16.0 streamlit-drawable-canvas &> /dev/null\n",
    "!npm install --silent -q localtunnel &> /dev/null\n",
    "!pip install -q git+https://github.com/sberbank-ai/Real-ESRGAN.git -q gfpgan protobuf==3.20.3 rasterio &> /dev/null\n",
    "!mkdir GFPGAN -p; wget https://github.com/TencentARC/GFPGAN/releases/download/v1.3.0/GFPGANv1.3.pth -P GFPGAN &> /dev/null\n",
    "!wget --no-check-certificate 'https://drive.google.com/uc?export=download&id=1zn80TVA4FhIWzSsE26EQ_pjMw3PKkC7u' -O d_studio.py &> /dev/null\n",
    "\n",
    "import joblib, threading, time, os, pydrive, oauth2client, google, pydrive.auth, pydrive.drive, requests, json, uuid\n",
    "try:\n",
    "    google.colab.auth.authenticate_user()\n",
    "    gauth = pydrive.auth.GoogleAuth()\n",
    "    gauth.credentials = oauth2client.client.GoogleCredentials.get_application_default()\n",
    "    drive = pydrive.drive.GoogleDrive(gauth)\n",
    "\n",
    "    def save_and_create(file_path: str, drive):\n",
    "        file = drive.CreateFile(metadata={\"title\": f\"{file_path[:-4]}{uuid.uuid1()}.png\", 'mimeType': 'image/jpeg'})\n",
    "        file.SetContentFile(file_path)\n",
    "        file.Upload()\n",
    "        res = requests.post(f\"https://www.googleapis.com/drive/v3/files/{file['id']}/permissions?supportsAllDrives=true\", \n",
    "                            data=json.dumps( {'type': 'anyone', 'value': 'anyone', 'role': 'reader'}),\n",
    "                            headers={'Authorization': 'Bearer ' + gauth.credentials.access_token, \n",
    "                                     'Content-Type': 'application/json'})\n",
    "        return f\"https://www.facebook.com/sharer/sharer.php?u=https://drive.google.com/uc?id={file['id']}\"\n",
    "\n",
    "    class TestThreading(object):\n",
    "        def __init__(self, interval=1, links_dict={}):\n",
    "            self.interval = interval\n",
    "            self.kill = False\n",
    "            self.links_dict = links_dict\n",
    "            self.thread = threading.Thread(target=self.run, args=())\n",
    "            self.thread.daemon = True\n",
    "            self.thread.start()\n",
    "\n",
    "        def run(self):\n",
    "            while not self.kill :\n",
    "                time.sleep(self.interval )\n",
    "                new_dict = {d : save_and_create(d,drive) for d in os.listdir()\n",
    "                             if \"image_\" in d and \".png\" in d and d not in self.links_dict.keys()}\n",
    "                self.links_dict.update(new_dict)\n",
    "                joblib.dump(self.links_dict,\"links_dict.j\") if 0 < len(new_dict) else None\n",
    "\n",
    "    tr = TestThreading(1)\n",
    "    print(\"Images will be saved on google Drive\")\n",
    "except:\n",
    "    print(\"Access to Google Drive was not granted\")\n",
    "\n",
    "print(\"Copy IP adress on the next line:\")\n",
    "!streamlit run /content/d_studio.py &>/content/logs.txt & npx localtunnel --port 8501 & curl ipv4.icanhazip.com"
   ]
  },
  {
   "cell_type": "code",
   "execution_count": null,
   "metadata": {
    "id": "m-tV9TxcVfj4"
   },
   "outputs": [],
   "source": [
    "!streamlit run /content/d_studio.py &>/content/logs.txt"
   ]
  },
  {
   "cell_type": "code",
   "execution_count": null,
   "metadata": {
    "colab": {
     "base_uri": "https://localhost:8080/",
     "height": 130
    },
    "id": "lZ-9R23qbRrv",
    "outputId": "d05d4e13-c8f5-445f-827d-373bb18c4c53"
   },
   "outputs": [],
   "source": [
    "npx localtunnel --port 8501"
   ]
  },
  {
   "cell_type": "code",
   "execution_count": null,
   "metadata": {
    "id": "qEPpgc_Hcb-o"
   },
   "outputs": [],
   "source": []
  }
 ],
 "metadata": {
  "accelerator": "GPU",
  "colab": {
   "gpuClass": "premium",
   "provenance": []
  },
  "gpuClass": "premium",
  "kernelspec": {
   "display_name": "Python 3 (ipykernel)",
   "language": "python",
   "name": "python3"
  },
  "language_info": {
   "codemirror_mode": {
    "name": "ipython",
    "version": 3
   },
   "file_extension": ".py",
   "mimetype": "text/x-python",
   "name": "python",
   "nbconvert_exporter": "python",
   "pygments_lexer": "ipython3",
   "version": "3.10.8"
  }
 },
 "nbformat": 4,
 "nbformat_minor": 4
}
